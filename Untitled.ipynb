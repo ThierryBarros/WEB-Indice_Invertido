{
 "cells": [
  {
   "cell_type": "markdown",
   "metadata": {},
   "source": [
    "# Lab 01 - Parte 2 - Ranking e Modelo Vetorial "
   ]
  },
  {
   "cell_type": "markdown",
   "metadata": {},
   "source": [
    "Importando as bibliotecas necessárias"
   ]
  },
  {
   "cell_type": "code",
   "execution_count": 761,
   "metadata": {},
   "outputs": [],
   "source": [
    "#coding: utf-8\n",
    "import pandas\n",
    "import nltk\n",
    "import numpy as np\n",
    "import math\n",
    "__author__ = \"Thierry Barros\"\n",
    "\n",
    "indice_invertido = {}\n",
    "dados_TF = {}"
   ]
  },
  {
   "cell_type": "markdown",
   "metadata": {},
   "source": [
    "Construindo o índice invertido\n",
    "\n",
    "função que checa se a palavra já existe no indice invertido, se sim adiciona o id do texto que possui a palavra. Se não cria a chave para palavra e adiciona o id do texto.\n"
   ]
  },
  {
   "cell_type": "code",
   "execution_count": 762,
   "metadata": {},
   "outputs": [],
   "source": [
    "def preencher( tupla ):\n",
    "    palavra, id_texto = tupla\n",
    "    if palavra.lower() not in dados_TF[id_texto]:\n",
    "        dados_TF[id_texto][palavra.lower()] = 0\n",
    "    dados_TF[id_texto][palavra.lower()] += 1\n",
    "    try:\n",
    "        indice_invertido [ palavra.lower() ].add(id_texto)\n",
    "    except KeyError:\n",
    "        indice_invertido[ palavra.lower() ] = set([ id_texto ])\n"
   ]
  },
  {
   "cell_type": "markdown",
   "metadata": {},
   "source": [
    "Criação da função que cria o indice invertido. Percorre todos os textos e vai adicionando a indice invertido."
   ]
  },
  {
   "cell_type": "code",
   "execution_count": 763,
   "metadata": {},
   "outputs": [],
   "source": [
    "def extrair( texto , id_texto ):\n",
    "    for i in xrange( len(texto) ):\n",
    "        dados_TF[id_texto[i]]= {}\n",
    "        for palavra in nltk.word_tokenize( str(texto[i]).decode('utf-8') ):\n",
    "            preencher((palavra,id_texto[i]))\n",
    "            "
   ]
  },
  {
   "cell_type": "markdown",
   "metadata": {},
   "source": [
    "##Buscando dados\n",
    "#MODELO TF\n",
    "Função baseado no modelo de busca TF. Ele pega as palavras e da peso as documentos que possuem as determinadas plavras com a função de peso : docTF * qTF"
   ]
  },
  {
   "cell_type": "code",
   "execution_count": 764,
   "metadata": {},
   "outputs": [],
   "source": [
    "def modeloTF(palavras):\n",
    "    documentos = search(palavras)\n",
    "    documentosTF = []\n",
    "    lista = map( lambda x: x.decode('utf-8').strip(), palavras.split(\"AND\") )\n",
    "    for indice in documentos:\n",
    "        documentoPeso = 0\n",
    "        for palavra in lista:\n",
    "            if (palavra in dados_TF[indice]):\n",
    "                docTF = dados_TF[indice][palavra] \n",
    "            else:\n",
    "                docTF = 0\n",
    "            qTF = lista.count(palavra)\n",
    "            documentoPeso += docTF * qTF\n",
    "            \n",
    "        documentosTF.append((indice, documentoPeso))\n",
    "    documentosTF.sort(key=lambda tup: tup[1], reverse=True)\n",
    "    indices = []\n",
    "    for tupla in documentosTF:\n",
    "        indices.append(tupla[0])\n",
    "    return indices\n"
   ]
  },
  {
   "cell_type": "markdown",
   "metadata": {},
   "source": [
    "#MODELO TF-IDF\n",
    "Função baseado no modelo de busca TF-IDF. Ele pega as palavras e da peso as documentos que possuem as determinadas plavras com a função de peso : docTF * qTF * idf"
   ]
  },
  {
   "cell_type": "code",
   "execution_count": 765,
   "metadata": {},
   "outputs": [],
   "source": [
    "def modeloIDF(palavras):\n",
    "    documentos = search(palavras)\n",
    "    documentosTF = []\n",
    "    lista = map( lambda x: x.decode('utf-8').strip(), palavras.split(\"AND\") )\n",
    "    for indice in documentos:\n",
    "        documentoPeso = 0\n",
    "        for palavra in lista:\n",
    "            if (palavra in dados_TF[indice]):\n",
    "                docTF = dados_TF[indice][palavra] \n",
    "            else:\n",
    "                docTF = 0\n",
    "            qTF = lista.count(palavra)\n",
    "            idf = math.log(file_csv.titulo.size/len(indice_invertido[ palavra.lower() ]))\n",
    "            documentoPeso += docTF * qTF * idf\n",
    "            \n",
    "        documentosTF.append((indice, documentoPeso))\n",
    "    documentosTF.sort(key=lambda tup: tup[1], reverse=True)\n",
    "    indices = []\n",
    "    for tupla in documentosTF:\n",
    "        indices.append(tupla[0])\n",
    "    return indices\n",
    "\n"
   ]
  },
  {
   "cell_type": "markdown",
   "metadata": {},
   "source": [
    "#MODELO BINÁRIO\n",
    "Função principal que procura no dicionário as palavras e retorna o id de todos os textos que possuem aquelas palavras."
   ]
  },
  {
   "cell_type": "code",
   "execution_count": 766,
   "metadata": {},
   "outputs": [],
   "source": [
    "\n",
    "\n",
    "def search( palavras ):\n",
    "    if ( \"AND\" in palavras ):\n",
    "        lista = map( lambda x: x.decode('utf-8').strip(), palavras.split(\"AND\") )\n",
    "        return procurarAND(lista)\n",
    "    elif (\"OR\" in palavras ):\n",
    "        lista = map(lambda x: x.decode('utf-8').strip(), palavras.split(\"OR\"))\n",
    "        return procurarOR(lista)\n",
    "    else:\n",
    "        return list(indice_invertido[palavras])\n",
    "\n"
   ]
  },
  {
   "cell_type": "markdown",
   "metadata": {},
   "source": [
    "#MODELO BM25\n",
    "Função baseado no modelo de busca BM25. Ele pega as palavras e da peso as documentos que possuem as determinadas plavras com a função de peso : ((docTF*22)/(docTF+21)) * qTF * idf"
   ]
  },
  {
   "cell_type": "code",
   "execution_count": 767,
   "metadata": {},
   "outputs": [],
   "source": [
    "def modeloBM25(palavras):\n",
    "    documentos = search(palavras)\n",
    "    documentosTF = []\n",
    "    lista = map( lambda x: x.decode('utf-8').strip(), palavras.split(\"AND\") )\n",
    "    for indice in documentos:\n",
    "        documentoPeso = 0\n",
    "        for palavra in lista:\n",
    "            if (palavra in dados_TF[indice]):\n",
    "                docTF = dados_TF[indice][palavra] \n",
    "            else:\n",
    "                docTF = 0\n",
    "            qTF = lista.count(palavra)\n",
    "            idf = math.log(file_csv.titulo.size/len(indice_invertido[ palavra.lower() ]))\n",
    "            documentoPeso += ((docTF*22)/(docTF+21)) * qTF * idf\n",
    "            \n",
    "        documentosTF.append((indice, documentoPeso))\n",
    "    documentosTF.sort(key=lambda tup: tup[1], reverse=True)\n",
    "    indices = []\n",
    "    for tupla in documentosTF:\n",
    "        indices.append(tupla[0])\n",
    "    return indices\n",
    "\n"
   ]
  },
  {
   "cell_type": "markdown",
   "metadata": {},
   "source": [
    "Função auxiliar que procurar pelo OR e retorna o id de todos os textos que possuem pelo menos uma das palvras. OBS: Função genérica do OR."
   ]
  },
  {
   "cell_type": "code",
   "execution_count": 768,
   "metadata": {},
   "outputs": [],
   "source": [
    "def procurarOR(lista):\n",
    "    indices = indice_invertido[lista[0].lower()]\n",
    "    for palavra in lista:\n",
    "        indices = set(reduce( lambda x,y : list( x | y ), [ indice_invertido[palavra.lower()] , indices] ))\n",
    "    return indices"
   ]
  },
  {
   "cell_type": "markdown",
   "metadata": {},
   "source": [
    "Função auxiliar que procurar pelo AND e retorna o id de todos os textos que possuem todas as palavras. OBS: Função genérica do AND."
   ]
  },
  {
   "cell_type": "code",
   "execution_count": 769,
   "metadata": {},
   "outputs": [],
   "source": [
    "def procurarAND(lista):\n",
    "    indices = indice_invertido[lista[0].lower()]\n",
    "    for palavra in lista:\n",
    "        indices = set(reduce( lambda x,y : list( x & y ), [ indice_invertido[palavra.lower()] , indices] ))\n",
    "    return indices"
   ]
  },
  {
   "cell_type": "markdown",
   "metadata": {},
   "source": [
    "Função main que roda o programa."
   ]
  },
  {
   "cell_type": "code",
   "execution_count": null,
   "metadata": {},
   "outputs": [],
   "source": [
    "if __name__ == \"__main__\":\n",
    "    file_csv = pandas.read_csv(\"estadao_noticias_eleicao.csv\")\n",
    "    file_csv = file_csv.replace(np.nan, '', regex=True)\n",
    "    texto = file_csv.titulo + \" \" + file_csv.conteudo + \" \" + file_csv.subTitulo\n",
    "    extrair(texto,file_csv.idNoticia)\n",
    "    "
   ]
  },
  {
   "cell_type": "code",
   "execution_count": null,
   "metadata": {},
   "outputs": [],
   "source": [
    "def apk(actual, predicted, k=10):\n",
    "    \"\"\"\n",
    "    Computes the average precision at k.\n",
    "    This function computes the average prescision at k between two lists of\n",
    "    items.\n",
    "    Parameters\n",
    "    ----------\n",
    "    actual : list\n",
    "             A list of elements that are to be predicted (order doesn't matter)\n",
    "    predicted : list\n",
    "                A list of predicted elements (order does matter)\n",
    "    k : int, optional\n",
    "        The maximum number of predicted elements\n",
    "    Returns\n",
    "    -------\n",
    "    score : double\n",
    "            The average precision at k over the input lists\n",
    "    \"\"\"\n",
    "    if len(predicted)>k:\n",
    "        predicted = predicted[:k]\n",
    "\n",
    "    score = 0.0\n",
    "    num_hits = 0.0\n",
    "\n",
    "    for i,p in enumerate(predicted):\n",
    "        if p in actual and p not in predicted[:i]:\n",
    "            num_hits += 1.0\n",
    "            score += num_hits / (i+1.0)\n",
    "\n",
    "    if not actual:\n",
    "        return 0.0\n",
    "\n",
    "    return score / min(len(actual), k)\n",
    "\n",
    "def mapk(actual, predicted, k=10):\n",
    "    \"\"\"\n",
    "    Computes the mean average precision at k.\n",
    "    This function computes the mean average prescision at k between two lists\n",
    "    of lists of items.\n",
    "    Parameters\n",
    "    ----------\n",
    "    actual : list\n",
    "             A list of lists of elements that are to be predicted \n",
    "             (order doesn't matter in the lists)\n",
    "    predicted : list\n",
    "                A list of lists of predicted elements\n",
    "                (order matters in the lists)\n",
    "    k : int, optional\n",
    "        The maximum number of predicted elements\n",
    "    Returns\n",
    "    -------\n",
    "    score : double\n",
    "            The mean average precision at k over the input lists\n",
    "    \"\"\"\n",
    "    return np.mean([apk(a,p,k) for a,p in zip(actual, predicted)])\n"
   ]
  },
  {
   "cell_type": "markdown",
   "metadata": {},
   "source": [
    "Testando a aplicação¶\n",
    "\n",
    "Função para testar alguns casos do sistema.\n"
   ]
  },
  {
   "cell_type": "code",
   "execution_count": null,
   "metadata": {},
   "outputs": [],
   "source": [
    "def teste():\n",
    "    termos = \"segundo AND turno\"\n",
    "    termos1 =  \"lava AND jato\"\n",
    "    termos2 =  \"projeto AND de AND lei\"\n",
    "    termos3 = \"compra AND de AND voto\"\n",
    "    termos4 = \"ministério AND público\"\n",
    "    \n",
    "    consultaBinaria = []\n",
    "    consultaTF = []\n",
    "    consultaIDF = []\n",
    "    consultaBM25 = []\n",
    "    \n",
    "    consultaBinaria.append(list(search(termos))[:5])\n",
    "    consultaTF.append(modeloTF(termos)[:5])\n",
    "    consultaIDF.append(modeloIDF(termos)[:5])\n",
    "    consultaBM25.append(modeloBM25(termos)[:5])\n",
    "    \n",
    "    consultaBinaria.append(list(search(termos1))[:5])\n",
    "    consultaTF.append(modeloTF(termos1)[:5])\n",
    "    consultaIDF.append(modeloIDF(termos1)[:5])\n",
    "    consultaBM25.append(modeloBM25(termos1)[:5])\n",
    "    \n",
    "    consultaBinaria.append(list(search(termos2))[:5])\n",
    "    consultaTF.append(modeloTF(termos2)[:5])\n",
    "    consultaIDF.append(modeloIDF(termos2)[:5])\n",
    "    consultaBM25.append(modeloBM25(termos2)[:5])\n",
    "    \n",
    "    consultaBinaria.append(list(search(termos3))[:5])\n",
    "    consultaTF.append(modeloTF(termos3)[:5])\n",
    "    consultaIDF.append(modeloIDF(termos3)[:5])\n",
    "    consultaBM25.append(modeloBM25(termos3)[:5])\n",
    "    \n",
    "    consultaBinaria.append(list(search(termos4))[:5])\n",
    "    consultaTF.append(modeloTF(termos4)[:5])\n",
    "    consultaIDF.append(modeloIDF(termos4)[:5])\n",
    "    consultaBM25.append(modeloBM25(termos4)[:5])\n",
    "    gabarito = pandas.read_csv(\"gabarito.csv\")\n",
    "    \n",
    "    gabarito[\"Binario_T\"] = None\n",
    "    print(\"Top 5 consultas Binario\")\n",
    "    for i in range(len(consultaBinaria)):\n",
    "        print \"Termos: %d\" %i + \" = \" + str(consultaBinaria[i])\n",
    "        gabarito[\"Binario_T\"] = str(consultaBinaria[i])\n",
    "    gabarito[\"TF_T\"] = None\n",
    "    print(\"\\nTop 5 consultas TF\")\n",
    "    for i in range(len(consultaBinaria)):\n",
    "        print \"Termos: %d\" %i + \" = \" + str(consultaTF[i])\n",
    "        gabarito[\"TF_T\"][i] =  str(consultaBinaria[i])\n",
    "    \n",
    "    gabarito[\"IDF_T\"] = None\n",
    "    print(\"\\nTop 5 consultas IDF\")\n",
    "    for i in range(len(consultaBinaria)):\n",
    "        print \"Termos: %d\" %i + \" = \" + str(consultaIDF[i])\n",
    "        gabarito[\"IDF_T\"][i] =  str(consultaBinaria[i])\n",
    "    \n",
    "    gabarito[\"BM25_T\"] = None\n",
    "    print(\"\\nTop 5 consultas BM25\")\n",
    "    for i in range(len(consultaBinaria)):\n",
    "        print \"Termos: %d\" %i + \" = \" + str(consultaBM25[i])\n",
    "        gabarito[\"BM25_T\"][i] =  str(consultaBinaria[i])\n",
    "    print   \n",
    "    return gabarito\n",
    "\n",
    "gabarito = teste()\n",
    "\n",
    "print gabarito\n",
    "\n"
   ]
  },
  {
   "cell_type": "markdown",
   "metadata": {},
   "source": [
    "#TESTANDO A EFICIENCIA DOS MODELOS IMPLEMENTADOS\n",
    "\n",
    "Podemos notar que os melhores foram Desempenho IDF com Gabarito e Desempenho BM25 com Gabarito e o pior foi Desempenho Binário com GOOGLE, isso já era de se esperar já que os modelos IDF E BM25 são aprimoramentos dos modelos anteriores, e o Binário é o modelo mais simples que tem. "
   ]
  },
  {
   "cell_type": "code",
   "execution_count": null,
   "metadata": {},
   "outputs": [],
   "source": [
    "print(\"Desempenho Binário com Gabarito\")\n",
    "mapk(gabarito.busca_binaria, gabarito.Binario_T, k=5)"
   ]
  },
  {
   "cell_type": "code",
   "execution_count": null,
   "metadata": {},
   "outputs": [],
   "source": [
    "print(\"Desempenho TF com Gabarito\")\n",
    "mapk(gabarito.tf, gabarito.TF_T, k=5)"
   ]
  },
  {
   "cell_type": "code",
   "execution_count": null,
   "metadata": {},
   "outputs": [],
   "source": [
    "print(\"Desempenho IDF com Gabarito\")\n",
    "mapk(gabarito.tfidf, gabarito.IDF_T, k=5)"
   ]
  },
  {
   "cell_type": "code",
   "execution_count": null,
   "metadata": {},
   "outputs": [],
   "source": [
    "print(\"Desempenho BM25 com Gabarito\")\n",
    "mapk(gabarito.bm25, gabarito.BM25_T, k=5)"
   ]
  },
  {
   "cell_type": "code",
   "execution_count": null,
   "metadata": {},
   "outputs": [],
   "source": [
    "print(\"Desempenho Binário com GOOGLE\")\n",
    "mapk(gabarito.google, gabarito.Binario_T, k=5)"
   ]
  },
  {
   "cell_type": "code",
   "execution_count": null,
   "metadata": {},
   "outputs": [],
   "source": [
    "print(\"Desempenho TF com GOOGLE\")\n",
    "mapk(gabarito.google, gabarito.TF_T, k=5)"
   ]
  },
  {
   "cell_type": "code",
   "execution_count": null,
   "metadata": {},
   "outputs": [],
   "source": [
    "print(\"Desempenho IDF com GOOGLE\")\n",
    "mapk(gabarito.google, gabarito.IDF_T, k=5)"
   ]
  },
  {
   "cell_type": "code",
   "execution_count": null,
   "metadata": {},
   "outputs": [],
   "source": [
    "print(\"Desempenho BM25 com GOOGLE\")\n",
    "mapk(gabarito.google, gabarito.BM25_T, k=5)"
   ]
  },
  {
   "cell_type": "code",
   "execution_count": null,
   "metadata": {},
   "outputs": [],
   "source": []
  }
 ],
 "metadata": {
  "kernelspec": {
   "display_name": "Python 2",
   "language": "python",
   "name": "python2"
  },
  "language_info": {
   "codemirror_mode": {
    "name": "ipython",
    "version": 2
   },
   "file_extension": ".py",
   "mimetype": "text/x-python",
   "name": "python",
   "nbconvert_exporter": "python",
   "pygments_lexer": "ipython2",
   "version": "2.7.12"
  }
 },
 "nbformat": 4,
 "nbformat_minor": 2
}
