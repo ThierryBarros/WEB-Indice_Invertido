{
 "cells": [
  {
   "cell_type": "markdown",
   "metadata": {},
   "source": [
    "## Matrix and Vocabulary Construction"
   ]
  },
  {
   "cell_type": "code",
   "execution_count": 4,
   "metadata": {},
   "outputs": [],
   "source": [
    "import pandas as pd\n",
    "\n",
    "import numpy as np\n",
    "\n",
    "from scipy import sparse\n",
    "\n",
    "import nltk\n",
    "from nltk import bigrams\n",
    "from nltk.corpus import stopwords\n",
    "from nltk.tokenize import RegexpTokenizer\n",
    "\n",
    "import math\n",
    "__author__ = \"Thierry Barros\"\n",
    "\n",
    "indice_invertido = {}\n",
    "dados_TF = {}\n",
    "\n"
   ]
  },
  {
   "cell_type": "code",
   "execution_count": 5,
   "metadata": {},
   "outputs": [],
   "source": [
    "def preencher( tupla ):\n",
    "    palavra, id_texto = tupla\n",
    "    if palavra.lower() not in dados_TF[id_texto]:\n",
    "        dados_TF[id_texto][palavra.lower()] = 0\n",
    "    dados_TF[id_texto][palavra.lower()] += 1\n",
    "    try:\n",
    "        indice_invertido [ palavra.lower() ].add(id_texto)\n",
    "    except KeyError:\n",
    "        indice_invertido[ palavra.lower() ] = set([ id_texto ])"
   ]
  },
  {
   "cell_type": "code",
   "execution_count": 6,
   "metadata": {},
   "outputs": [],
   "source": [
    "\n",
    "def extrair( texto , id_texto ):\n",
    "    for i in xrange( len(texto) ):\n",
    "        dados_TF[id_texto[i]]= {}\n",
    "        for palavra in nltk.word_tokenize( str(texto[i]).decode('utf-8') ):\n",
    "            preencher((palavra,id_texto[i]))\n",
    "\n"
   ]
  },
  {
   "cell_type": "code",
   "execution_count": 7,
   "metadata": {},
   "outputs": [],
   "source": [
    "if __name__ == \"__main__\":\n",
    "    file_csv = pd.read_csv(\"../data/estadao_noticias_eleicao.csv\")\n",
    "    file_csv = file_csv.replace(np.nan, '', regex=True)\n",
    "    texto = file_csv.titulo + \" \" + file_csv.conteudo + \" \" + file_csv.subTitulo\n",
    "    extrair(texto,file_csv.idNoticia)"
   ]
  },
  {
   "cell_type": "code",
   "execution_count": 8,
   "metadata": {},
   "outputs": [],
   "source": [
    "news = pd.read_csv(\"../data/estadao_noticias_eleicao.csv\", encoding=\"utf-8\")"
   ]
  },
  {
   "cell_type": "code",
   "execution_count": 9,
   "metadata": {},
   "outputs": [],
   "source": [
    "content = news.titulo + \" \" + news.subTitulo + \" \" + news.conteudo\n",
    "content = content.fillna(\"\")"
   ]
  },
  {
   "cell_type": "code",
   "execution_count": 10,
   "metadata": {},
   "outputs": [],
   "source": [
    "def co_occurrence_matrix(corpus):\n",
    "    vocab = set(corpus)\n",
    "    vocab = list(vocab)\n",
    "    n = len(vocab)\n",
    "   \n",
    "    vocab_to_index = {word:i for i, word in enumerate(vocab)}\n",
    "    \n",
    "    bi_grams = list(bigrams(corpus))\n",
    "\n",
    "    bigram_freq = nltk.FreqDist(bi_grams).most_common(len(bi_grams))\n",
    "\n",
    "    I=list()\n",
    "    J=list()\n",
    "    V=list()\n",
    "    \n",
    "    for bigram in bigram_freq:\n",
    "        current = bigram[0][1]\n",
    "        previous = bigram[0][0]\n",
    "        count = bigram[1]\n",
    "\n",
    "        I.append(vocab_to_index[previous])\n",
    "        J.append(vocab_to_index[current])\n",
    "        V.append(count)\n",
    "        \n",
    "    co_occurrence_matrix = sparse.coo_matrix((V,(I,J)), shape=(n,n))\n",
    "\n",
    "    return co_occurrence_matrix, vocab_to_index"
   ]
  },
  {
   "cell_type": "markdown",
   "metadata": {},
   "source": [
    "#### Removing punctuation"
   ]
  },
  {
   "cell_type": "code",
   "execution_count": 11,
   "metadata": {},
   "outputs": [],
   "source": [
    "tokenizer = RegexpTokenizer(r'\\w+')\n",
    "tokens_lists = content.apply(lambda text: tokenizer.tokenize(text.lower()))"
   ]
  },
  {
   "cell_type": "markdown",
   "metadata": {},
   "source": [
    "#### Removing stopwords"
   ]
  },
  {
   "cell_type": "code",
   "execution_count": 12,
   "metadata": {},
   "outputs": [],
   "source": [
    "stopword_ = stopwords.words('portuguese')\n",
    "filtered_tokens = tokens_lists.apply(lambda tokens: [token for token in tokens if token not in stopword_])"
   ]
  },
  {
   "cell_type": "markdown",
   "metadata": {},
   "source": [
    "#### Transforming list of lists into one list"
   ]
  },
  {
   "cell_type": "code",
   "execution_count": 13,
   "metadata": {},
   "outputs": [],
   "source": [
    "tokens = [token for tokens_list in filtered_tokens for token in tokens_list]"
   ]
  },
  {
   "cell_type": "code",
   "execution_count": 14,
   "metadata": {},
   "outputs": [],
   "source": [
    "matrix, vocab = co_occurrence_matrix(tokens)"
   ]
  },
  {
   "cell_type": "markdown",
   "metadata": {},
   "source": [
    "## Consult Bigram Frequency"
   ]
  },
  {
   "cell_type": "code",
   "execution_count": 15,
   "metadata": {},
   "outputs": [],
   "source": [
    "consultable_matrix = matrix.tocsr()"
   ]
  },
  {
   "cell_type": "code",
   "execution_count": 16,
   "metadata": {},
   "outputs": [],
   "source": [
    "def consult_frequency(w1, w2):\n",
    "    return(consultable_matrix[vocab[w1],vocab[w2]])"
   ]
  },
  {
   "cell_type": "markdown",
   "metadata": {},
   "source": [
    "#Consulta das 3 palavras que mais aparecem junto com a termo consultado.\n",
    "\n",
    "    A função pega os tokens(todas as palavras do dicionário), faz um set para tirar as repetições, depois tranforma e lista denovo. Então eu crio uma lista(dic), contendo tuplas de (palavra, frequência da palavra com o termo). Após a criação dessa lista, eu ordeno ela pela frequência, e pego as três palavras com maior frequência e retorno elas. \n",
    "    OBS: Crio essa lista de nome, frequencia, ultilizando a função auxiliar consult_frequency(word, i), criada pelos monitores da turma, então eu não preciso receber na função a matrix de co-ocorrência, porque essa função já usa a matriz."
   ]
  },
  {
   "cell_type": "code",
   "execution_count": 17,
   "metadata": {},
   "outputs": [],
   "source": [
    "def top3_similarity(word):\n",
    "    words = set(tokens)\n",
    "    words = list(words)\n",
    "    dic = []\n",
    "    for i in words:\n",
    "        try:\n",
    "            dic.append((i, consult_frequency(word, i)))\n",
    "        except KeyError:\n",
    "            return [\"Not Found: palavra '\"+word+\"' não encontrada\"]\n",
    "    dic.sort(key=lambda tup: tup[1], reverse=True)\n",
    "    similar_words = []\n",
    "    for tupla in dic[:3]:\n",
    "       similar_words.append(tupla[0])\n",
    "    return similar_words"
   ]
  },
  {
   "cell_type": "markdown",
   "metadata": {},
   "source": [
    "#Função que expande a consulta e retorna a lista\n",
    "\n",
    "Essa função recebe o termo a ser procurado e retorna a lista expandida com os top3 palavras mais similares."
   ]
  },
  {
   "cell_type": "code",
   "execution_count": 18,
   "metadata": {},
   "outputs": [],
   "source": [
    "def expand_consult(word):\n",
    "    words = []\n",
    "    words.append(word)\n",
    "    words += top3_similarity(word)\n",
    "    return words"
   ]
  },
  {
   "cell_type": "markdown",
   "metadata": {},
   "source": [
    "#Função de busca OR\n",
    "Função de busca que retorna os documentos que possuem pelo menos uma das palavras da consulta. Função de labs anteriores é uma função de busca binária."
   ]
  },
  {
   "cell_type": "code",
   "execution_count": 19,
   "metadata": {},
   "outputs": [],
   "source": [
    "def procurarOR(lista):\n",
    "    indices = indice_invertido[lista[0].lower()]\n",
    "    for palavra in lista:\n",
    "        indices = set(reduce( lambda x,y : list( x | y ), [ indice_invertido[palavra.lower()] , indices] ))\n",
    "    return indices"
   ]
  },
  {
   "cell_type": "markdown",
   "metadata": {},
   "source": [
    "#Quais os termos retornados para a expansão de cada consulta?"
   ]
  },
  {
   "cell_type": "code",
   "execution_count": 20,
   "metadata": {},
   "outputs": [],
   "source": [
    "term1 = \"poucos\"\n",
    "term2 = \"recursos\"\n",
    "term3 = \"corinthians\"\n",
    "\n",
    "terms1 = top3_similarity(term1)\n",
    "\n",
    "terms2 = top3_similarity(term2)\n",
    "\n",
    "terms3 = top3_similarity(term3)\n"
   ]
  },
  {
   "cell_type": "markdown",
   "metadata": {},
   "source": [
    "#Consulta poucos:"
   ]
  },
  {
   "cell_type": "code",
   "execution_count": 21,
   "metadata": {},
   "outputs": [
    {
     "name": "stdout",
     "output_type": "stream",
     "text": [
      "Termos encontrados na expansão da pesquisa de poucos:\n",
      "1 dias\n",
      "2 meses\n",
      "3 metros\n"
     ]
    }
   ],
   "source": [
    "print(\"Termos encontrados na expansão da pesquisa de \"+term1+\":\")\n",
    "for i, word in enumerate(terms1):\n",
    "    print i+1,word"
   ]
  },
  {
   "cell_type": "markdown",
   "metadata": {},
   "source": [
    "#Você acha que esses termos são de fato relacionados com a consulta original? Justifique.\n",
    "    Sim, pois são termos que em conjunto fazem sentido. Exemplo: poucos dias, poucos meses, poucos metros."
   ]
  },
  {
   "cell_type": "markdown",
   "metadata": {},
   "source": [
    "#Consulta recursos:"
   ]
  },
  {
   "cell_type": "code",
   "execution_count": 22,
   "metadata": {},
   "outputs": [
    {
     "name": "stdout",
     "output_type": "stream",
     "text": [
      "Termos encontrados na expansão da pesquisa de recursos:\n",
      "1 públicos\n",
      "2 fundo\n",
      "3 petrobrás\n"
     ]
    }
   ],
   "source": [
    "print(\"Termos encontrados na expansão da pesquisa de \"+term2+\":\")\n",
    "for i, word in enumerate(terms2):\n",
    "    print i+1,word"
   ]
  },
  {
   "cell_type": "markdown",
   "metadata": {},
   "source": [
    "#Você acha que esses termos são de fato relacionados com a consulta original? Justifique.\n",
    "    Sim, mas acho que só duas das palavras fazem sentido, que são públicos e petrobrás. Recursos fundo não parece fazer muito sentido em conjunto, mas pode ser porque a frase não está completa, poderia ter outras palavras após essas que na frase fariam mais sentido. Já, recursos públicos e recursos petrobrás parece fazer sentido, deve possivelmente está relacionado ao interesse dos usuários em saber como estão sendo gastos os recursos do país."
   ]
  },
  {
   "cell_type": "markdown",
   "metadata": {},
   "source": [
    "#Consulta corinthians:"
   ]
  },
  {
   "cell_type": "code",
   "execution_count": 23,
   "metadata": {},
   "outputs": [
    {
     "name": "stdout",
     "output_type": "stream",
     "text": [
      "Termos encontrados na expansão da pesquisa de corinthians:\n",
      "1 andrés\n",
      "2 2010\n",
      "3 paulo\n"
     ]
    }
   ],
   "source": [
    "print(\"Termos encontrados na expansão da pesquisa de \"+term3+\":\")\n",
    "for i, word in enumerate(terms3):\n",
    "    print i+1,word"
   ]
  },
  {
   "cell_type": "markdown",
   "metadata": {},
   "source": [
    "#Você acha que esses termos são de fato relacionados com a consulta original? Justifique.\n",
    "   Sim, pois andrés é o presidente do timão. 2010 deve ter sido a pesquisa em alta no ano da captação desses dados, procurando saber como o corinthians foi ou que jogos ele teria no ano de 2010. Paulo pode ser uma palavra ambígua, tanto pode representa o estado de São paulo, ou algum jogador chamado paulo que fez sucesso no corinthians na época, confesso que não lembro de nenhum jogador com esse nome."
   ]
  },
  {
   "cell_type": "markdown",
   "metadata": {},
   "source": [
    "#Compare os documentos retornados para a consulta original com a consulta expandida. Quais resultados você acha que melhor capturam a necessidade de informação do usuário? Por que?"
   ]
  },
  {
   "cell_type": "code",
   "execution_count": 33,
   "metadata": {},
   "outputs": [
    {
     "name": "stdout",
     "output_type": "stream",
     "text": [
      "set([7168, 2, 5637, 1030, 3080, 1033, 1035, 13, 8206, 2063, 3088, 5139, 3649, 28, 5149, 6686, 4639, 3106, 4187, 518, 6694, 2599, 3112, 42, 615, 4992, 48, 8712, 4658, 1589, 7222, 1545, 1843, 60, 2110, 8117, 7232, 7233, 4676, 6497, 4169, 4170, 2635, 8269, 6224, 3939, 8252, 2574, 1503, 3671, 3163, 3678, 2665, 8208, 5223, 7273, 2154, 2155, 109, 7187, 1652, 7287, 4216, 1657, 1658, 5246, 5759, 6784, 3203, 2183, 5256, 1969, 139, 2701, 6509, 8336, 2193, 8338, 659, 4244, 6807, 8350, 3743, 1696, 161, 162, 5283, 5284, 5489, 680, 6940, 682, 549, 173, 7854, 6321, 4276, 693, 8374, 3260, 1729, 603, 2244, 4294, 200, 6775, 7884, 3790, 1233, 7378, 1235, 4235, 1237, 1238, 3287, 1241, 1244, 222, 4319, 2274, 7396, 2277, 5350, 6377, 6890, 235, 2285, 6384, 3179, 7413, 2294, 6391, 760, 7288, 4479, 5674, 6398, 5077, 3329, 5931, 6404, 2311, 3848, 5847, 4878, 783, 2805, 5396, 5337, 7449, 3354, 3375, 7452, 5093, 8478, 6192, 2338, 2339, 6948, 7461, 6439, 7464, 2346, 4395, 1837, 3886, 4399, 7475, 1333, 4410, 7483, 6131, 2602, 3396, 8517, 2374, 567, 2385, 1875, 342, 855, 5466, 915, 4581, 353, 1891, 6374, 3942, 1385, 5995, 4460, 2413, 4974, 1393, 7026, 7021, 4980, 2935, 889, 7034, 2996, 865, 1407, 8576, 6529, 8179, 5510, 4673, 2443, 5516, 3470, 3984, 402, 403, 2707, 2454, 836, 5018, 6555, 2460, 1437, 3909, 1953, 1442, 411, 5958, 423, 4391, 4011, 2989, 2479, 2480, 433, 1970, 435, 804, 949, 1463, 6585, 444, 6389, 3009, 4034, 2501, 7622, 7623, 7627, 7629, 8143, 1989, 5078, 1018, 6034, 2527, 996, 5605, 3560, 3050, 1519, 5107, 4602, 7163, 2986])\n",
      "set([8193, 3, 8196, 7, 8, 12, 13, 14, 16, 8209, 18, 21, 25, 26, 27, 28, 8221, 30, 34, 8228, 38, 8199, 46, 47, 48, 49, 8242, 8244, 8245, 8246, 8248, 8249, 8252, 8254, 8255, 70, 8264, 8266, 76, 8278, 87, 88, 97, 101, 102, 8295, 109, 110, 111, 8304, 113, 115, 117, 118, 119, 120, 8314, 123, 124, 125, 128, 132, 133, 134, 8328, 8334, 8335, 145, 146, 147, 148, 150, 155, 156, 158, 8352, 8353, 8354, 163, 8357, 168, 8363, 173, 8367, 176, 179, 180, 8222, 8374, 8375, 8376, 187, 8380, 189, 190, 192, 8385, 194, 8388, 200, 201, 8394, 205, 8398, 8402, 8407, 216, 8411, 220, 221, 8416, 228, 229, 8422, 231, 8425, 8429, 8430, 240, 241, 242, 246, 247, 8441, 250, 8443, 8445, 8447, 43, 260, 8459, 272, 273, 275, 276, 8469, 281, 284, 8478, 8482, 8484, 295, 297, 299, 301, 304, 8497, 8498, 8502, 312, 317, 53, 8517, 326, 8524, 336, 8529, 8530, 8531, 8532, 341, 347, 348, 350, 351, 352, 354, 8547, 8548, 362, 363, 366, 8561, 8563, 374, 8567, 381, 8574, 383, 8576, 385, 390, 8583, 8587, 396, 402, 8600, 8601, 411, 412, 414, 415, 416, 8609, 8262, 422, 8615, 8616, 8617, 8620, 429, 431, 434, 438, 8633, 442, 8637, 8642, 451, 8647, 8650, 8651, 8657, 466, 8659, 8660, 8662, 471, 8665, 8670, 8672, 482, 8676, 489, 490, 498, 8691, 500, 8695, 8698, 8699, 8700, 8705, 8706, 8707, 516, 8709, 519, 8716, 526, 528, 530, 531, 534, 542, 545, 549, 553, 557, 564, 567, 574, 577, 578, 579, 580, 8289, 588, 589, 593, 599, 604, 620, 621, 622, 623, 629, 632, 638, 639, 644, 652, 655, 656, 663, 664, 665, 673, 675, 8305, 686, 690, 699, 8309, 710, 715, 725, 726, 734, 8315, 744, 748, 754, 755, 760, 767, 770, 771, 774, 779, 783, 785, 791, 793, 800, 811, 816, 817, 818, 821, 822, 823, 826, 830, 832, 833, 834, 835, 838, 840, 841, 842, 845, 846, 847, 855, 856, 863, 864, 867, 8337, 873, 874, 876, 882, 886, 892, 893, 895, 896, 900, 8342, 903, 904, 906, 910, 912, 913, 914, 915, 917, 921, 922, 924, 926, 927, 930, 934, 935, 936, 937, 939, 941, 951, 953, 958, 961, 968, 969, 970, 971, 975, 978, 980, 981, 984, 992, 993, 994, 995, 997, 998, 1002, 1006, 1017, 1018, 1020, 1023, 1025, 1027, 8365, 1040, 1044, 1045, 1048, 1052, 8368, 1062, 1068, 1074, 1079, 1080, 1082, 1086, 1089, 1096, 1108, 1117, 1120, 1129, 1131, 1135, 1140, 1146, 1147, 1152, 1155, 1159, 1160, 1170, 1173, 1176, 1183, 1184, 1187, 1189, 1192, 1193, 1204, 1208, 1213, 1214, 1215, 1217, 1221, 1223, 1224, 1225, 1227, 1232, 1233, 1235, 1241, 1250, 1260, 1269, 1272, 1274, 1277, 1278, 1283, 1287, 1290, 1291, 1300, 1308, 1311, 1316, 1323, 1324, 1326, 1328, 1335, 1336, 1347, 1349, 1355, 1361, 1362, 1363, 1364, 1372, 1382, 1383, 1386, 1387, 1388, 1389, 1391, 1392, 233, 1400, 1401, 1404, 1407, 1411, 1414, 1417, 1421, 1422, 1423, 1428, 1430, 1431, 1433, 1434, 1437, 1438, 1442, 1449, 1453, 1461, 1464, 1467, 1469, 1473, 1479, 1482, 1486, 1493, 1494, 1496, 1498, 1503, 1504, 1507, 1509, 1511, 1512, 1513, 1519, 1524, 1525, 1545, 1547, 1548, 1550, 1553, 1558, 8452, 1572, 1576, 1577, 1578, 1585, 1588, 1589, 1594, 1614, 1616, 1617, 1618, 1628, 1629, 1632, 1637, 1638, 1644, 1645, 1649, 1650, 1652, 1653, 1657, 1661, 1674, 1675, 1677, 1678, 1679, 1681, 1682, 1685, 1696, 1704, 1712, 1716, 286, 1725, 1753, 1754, 1756, 1785, 1810, 1811, 1813, 1816, 1821, 8496, 1831, 306, 1856, 1857, 1861, 1875, 1888, 1898, 1901, 1904, 1927, 1936, 1942, 1955, 1959, 1971, 1973, 1983, 1987, 1991, 1992, 2006, 2009, 2012, 2013, 2015, 2020, 2021, 2022, 2024, 2028, 338, 2037, 340, 2042, 2047, 2049, 2058, 2070, 2075, 2077, 8540, 2092, 8542, 2110, 2112, 2116, 2117, 2129, 355, 2138, 2142, 2155, 2164, 2169, 2170, 2175, 2178, 2183, 2188, 2190, 2193, 2197, 2199, 2227, 2231, 2235, 2244, 2245, 2246, 2249, 2253, 2258, 2261, 2263, 2267, 2268, 2270, 2271, 2273, 2274, 2277, 2278, 2279, 2281, 2283, 2284, 2285, 2286, 2291, 2304, 384, 2325, 2331, 2334, 2336, 2338, 2339, 2346, 2349, 2355, 2357, 2363, 2367, 2368, 2370, 2371, 2376, 2380, 2383, 2385, 2391, 2392, 2395, 2396, 2397, 2399, 2400, 2404, 2405, 2406, 2409, 2414, 2417, 2420, 2425, 2435, 2436, 2448, 2454, 2456, 2458, 2460, 2465, 2466, 8603, 8604, 2477, 2479, 2480, 2483, 2488, 2490, 2491, 2492, 2493, 2494, 8608, 2498, 2504, 2507, 2508, 2511, 2512, 2514, 2519, 2523, 2524, 8613, 2531, 2532, 8614, 2545, 425, 2558, 2572, 2580, 2584, 2585, 2587, 2589, 2590, 2602, 2616, 2624, 2634, 2637, 2640, 2642, 2645, 2646, 2647, 2651, 2652, 2659, 2665, 2667, 2669, 2671, 2679, 2681, 2682, 2686, 2687, 2689, 2693, 2700, 2701, 2702, 2707, 2713, 2715, 2719, 2720, 2722, 2728, 2738, 2739, 2743, 2744, 2759, 2762, 2763, 2766, 2767, 2768, 2769, 2784, 2788, 2790, 2796, 2798, 2805, 2816, 2822, 2823, 2827, 2829, 2833, 2834, 2836, 2839, 2848, 2849, 2853, 2858, 2860, 2867, 2875, 2877, 2880, 2892, 8674, 2895, 2902, 2904, 2906, 2907, 2910, 2911, 2914, 2915, 2934, 2935, 2950, 2951, 2954, 2955, 2960, 2961, 2969, 2984, 2986, 2989, 2991, 2992, 2998, 3000, 3002, 3008, 3013, 3017, 3018, 3025, 3029, 3030, 3050, 3068, 3070, 3077, 513, 3081, 3088, 3089, 3091, 3092, 3097, 3106, 3112, 3126, 3133, 3148, 3151, 3158, 3162, 3163, 3167, 3172, 3176, 3179, 3181, 3184, 3193, 3194, 3200, 3207, 3213, 3215, 3216, 3217, 3220, 3228, 3243, 3247, 3263, 3266, 3267, 3269, 3271, 3278, 3279, 3280, 3287, 8566, 3302, 3308, 3312, 3314, 3316, 3320, 3322, 3341, 3358, 3360, 3367, 3372, 3386, 3387, 3397, 3399, 3400, 3401, 3402, 3410, 3412, 3417, 3423, 3426, 3428, 3429, 3431, 3432, 3440, 3444, 3447, 3458, 3489, 3498, 3500, 3501, 3504, 3507, 3509, 3511, 3513, 3517, 3521, 3528, 3554, 3560, 3565, 3570, 3571, 3581, 3582, 3585, 3586, 3601, 3605, 3613, 3639, 3643, 3648, 3655, 3658, 3659, 3663, 3668, 3669, 3670, 3671, 3672, 3674, 3685, 3701, 3702, 3712, 3713, 3714, 3726, 3735, 3743, 3745, 3748, 3753, 3754, 3755, 3779, 3783, 3786, 3795, 3797, 3802, 3811, 3815, 3825, 4219, 3832, 3841, 3842, 3850, 3858, 3859, 3860, 3864, 3865, 3869, 3870, 3871, 3872, 3873, 3875, 3876, 3879, 3880, 3885, 3886, 3891, 3896, 3897, 3906, 3908, 3909, 3911, 3914, 3929, 3931, 3937, 3938, 3939, 3940, 3941, 3942, 3947, 3959, 3980, 2029, 3994, 3996, 3999, 4001, 4017, 4019, 4022, 4023, 4024, 4026, 4028, 4032, 4039, 4053, 4059, 4064, 4067, 4069, 4070, 4074, 4076, 4078, 4080, 4084, 4095, 4096, 4098, 4104, 4106, 4108, 4110, 4127, 4131, 4133, 4136, 4139, 4140, 4157, 4170, 4171, 4173, 4182, 4185, 4186, 4196, 4199, 4200, 4202, 4204, 4205, 4211, 4212, 4216, 4217, 703, 4222, 4223, 4224, 4227, 4229, 4230, 4239, 4248, 4249, 4251, 4255, 4261, 4266, 4268, 4269, 4273, 4275, 4281, 4285, 4299, 4302, 4303, 4305, 4307, 4308, 4309, 4314, 4319, 4321, 4324, 4326, 4329, 4333, 4334, 4336, 4337, 4339, 4342, 4347, 4348, 4349, 4351, 4358, 4359, 4360, 4362, 4363, 4366, 4368, 4372, 4378, 4383, 4387, 4391, 4394, 4399, 4402, 4405, 4422, 4424, 4427, 4434, 4435, 4443, 4444, 4451, 4456, 4460, 4477, 4493, 4494, 4500, 4502, 4504, 4505, 4519, 4533, 4535, 4536, 4537, 4539, 4544, 4564, 4571, 4585, 4587, 4601, 4608, 4611, 4619, 4620, 4626, 4627, 4650, 4652, 4659, 4661, 4671, 4672, 4676, 4677, 4680, 4682, 4685, 4693, 4695, 4698, 4700, 4701, 4702, 4708, 4713, 4714, 4715, 4716, 4717, 4719, 4725, 4731, 4733, 4742, 4743, 4751, 4762, 4777, 4778, 4782, 4785, 4786, 4787, 4789, 4790, 4794, 4797, 4803, 4808, 4818, 4820, 4828, 4829, 4832, 4842, 4843, 4849, 4853, 4855, 4861, 4863, 4870, 4871, 4874, 4879, 4883, 4884, 4889, 4897, 4898, 4900, 4903, 4943, 4944, 4945, 4947, 4952, 4953, 4954, 4968, 4970, 4973, 4974, 4980, 4995, 4997, 4999, 5005, 5007, 5014, 5018, 5024, 5025, 5026, 5031, 5036, 5037, 5038, 5049, 5053, 5055, 5058, 5060, 5074, 5091, 5101, 5102, 5103, 5105, 5106, 5109, 5111, 5112, 5114, 5123, 5124, 5128, 5129, 5131, 5142, 5143, 5144, 5146, 5149, 5150, 5151, 5153, 5158, 5160, 5161, 5163, 5164, 5166, 5167, 5170, 5172, 5175, 5176, 5185, 5187, 5190, 5191, 5192, 5193, 5200, 5204, 5211, 5226, 5230, 5235, 5237, 5238, 5246, 5247, 5248, 5250, 5257, 5267, 5268, 5269, 5270, 5276, 5280, 5285, 5291, 5296, 5300, 5305, 5306, 5309, 5313, 5321, 5325, 5330, 5334, 5336, 5341, 5344, 5348, 5354, 5356, 5360, 5370, 5371, 5372, 5383, 5384, 5387, 5388, 5390, 5391, 5393, 5396, 5397, 5398, 5400, 5416, 5420, 5422, 5424, 5426, 5427, 5429, 5436, 5438, 5444, 5447, 5449, 5450, 5452, 5458, 5467, 5468, 5475, 5479, 5480, 5483, 5488, 5489, 5491, 5492, 5495, 5499, 5500, 5503, 5506, 5511, 5515, 5525, 5533, 5536, 5537, 5539, 5544, 5547, 5562, 5564, 5567, 5590, 5591, 5599, 5604, 5605, 5607, 5608, 5616, 5617, 5625, 5627, 5637, 5641, 5653, 5677, 5678, 5680, 5683, 5684, 5698, 5711, 5712, 5713, 5719, 5720, 5737, 5739, 5745, 5747, 5756, 5759, 5766, 5777, 5781, 5783, 5794, 5795, 5799, 5800, 5811, 5813, 5817, 5821, 5823, 5824, 5829, 5834, 5835, 5836, 5843, 5855, 5864, 5867, 5868, 5869, 5870, 5876, 5878, 5880, 5886, 5887, 5888, 5894, 5899, 5907, 5913, 5915, 5916, 5919, 5923, 5926, 5927, 5931, 5948, 5950, 5956, 5959, 5960, 5961, 5965, 5966, 5968, 5972, 5974, 5975, 5987, 5992, 5995, 6007, 6008, 6013, 6016, 6017, 6021, 6022, 6029, 6037, 6038, 6047, 6073, 6082, 6084, 6086, 6091, 6099, 6104, 6108, 6110, 6111, 6113, 6114, 6121, 6122, 6123, 6124, 6125, 6131, 6136, 6145, 6147, 6149, 6160, 6161, 6165, 6167, 6175, 6188, 6192, 6193, 6209, 6214, 6219, 6226, 6230, 6231, 6232, 6236, 6237, 6239, 6240, 6247, 6252, 6253, 6258, 6264, 6265, 6271, 6272, 6282, 6286, 6297, 6299, 6303, 6313, 6314, 6320, 6325, 6330, 6332, 6335, 6350, 6359, 6364, 6372, 6373, 6379, 6387, 6388, 6394, 6395, 6396, 6397, 6398, 6399, 6406, 6408, 6413, 6417, 6421, 6432, 6441, 6447, 6467, 6472, 6480, 6481, 6482, 6484, 6485, 6489, 6490, 6492, 6497, 6499, 6500, 6504, 6505, 6509, 6513, 6516, 6517, 6518, 6519, 6522, 6526, 6528, 6529, 6531, 6533, 6534, 6537, 6548, 6549, 6551, 6553, 6554, 6557, 6562, 6577, 6578, 6585, 6594, 6595, 6602, 6604, 2467, 6613, 6622, 6624, 6627, 6628, 6630, 6633, 6634, 6637, 6639, 6645, 6647, 6648, 6649, 6650, 6652, 6654, 6655, 6656, 6660, 6676, 6677, 6678, 6679, 6683, 6685, 6686, 6688, 6689, 6700, 6703, 6707, 6713, 6714, 6715, 6727, 6730, 6731, 6737, 6738, 6741, 6742, 6745, 6746, 6749, 6752, 6753, 6754, 6756, 6759, 6773, 6775, 6778, 6779, 6781, 6784, 6786, 6792, 6793, 6797, 6798, 6801, 6802, 6804, 6805, 6807, 6812, 6815, 6819, 6821, 6822, 6823, 6825, 6827, 6829, 6831, 6840, 6841, 6864, 6866, 6871, 6872, 6874, 6878, 6882, 6883, 6884, 6896, 6897, 6611, 6904, 6905, 6906, 6911, 6912, 6917, 6918, 6920, 6921, 6923, 6924, 6929, 6930, 6931, 6932, 6934, 6937, 6939, 6940, 6942, 6943, 6944, 6946, 6949, 6953, 6960, 6966, 2527, 6972, 6973, 6978, 6979, 6982, 6983, 6984, 6985, 6989, 6990, 6995, 6997, 6999, 7002, 7004, 7010, 7013, 7015, 7017, 7020, 7022, 7025, 7029, 7036, 7043, 7047, 7049, 7050, 7056, 7060, 7067, 7068, 7069, 7073, 7074, 7097, 7100, 7104, 7108, 7109, 7113, 2551, 7118, 7121, 7122, 7125, 7126, 7131, 7132, 7133, 7138, 7140, 7148, 7154, 7157, 7158, 7160, 7161, 7163, 7164, 7166, 7171, 7172, 7175, 7176, 7178, 7181, 7183, 7184, 7186, 7189, 7194, 7196, 7198, 7199, 7201, 7202, 7203, 7204, 7206, 7207, 7209, 7210, 7212, 7213, 7214, 7215, 7219, 7221, 7223, 7224, 7225, 7227, 7229, 7233, 7235, 7236, 7238, 7239, 7241, 7245, 7250, 7252, 7255, 7257, 7261, 7267, 7271, 7273, 7274, 7280, 7286, 7287, 7288, 7289, 7290, 7292, 7300, 7309, 7314, 7318, 7321, 7322, 7333, 7349, 7356, 7378, 7384, 7390, 7391, 7398, 7400, 7402, 7411, 7413, 7415, 7431, 7439, 7441, 7444, 7445, 7449, 7452, 7456, 7458, 7462, 7466, 7468, 7474, 7479, 7481, 7482, 7483, 7484, 7504, 7507, 7510, 7511, 7514, 7515, 7517, 7523, 7524, 7526, 7527, 7528, 7532, 7534, 7540, 7543, 7545, 7546, 7547, 7555, 7557, 7562, 7563, 7583, 7585, 7596, 7612, 7616, 7617, 7618, 7619, 7620, 7622, 7623, 7627, 7629, 7637, 7640, 7646, 7650, 7651, 7663, 7667, 7668, 7669, 7671, 7673, 7674, 7676, 7682, 7683, 7685, 7690, 7694, 7697, 7699, 7700, 7701, 7702, 7711, 7712, 7717, 7718, 7728, 7729, 7735, 7742, 7746, 7748, 7750, 7751, 7754, 7756, 7762, 7763, 7764, 7768, 7773, 7775, 7778, 7783, 7784, 7785, 7786, 7789, 7800, 7804, 7806, 7809, 7817, 7824, 7825, 7826, 7828, 7829, 7833, 7835, 7836, 7838, 7839, 7842, 7849, 7850, 7854, 7873, 7886, 7887, 7889, 7890, 7891, 7893, 7894, 7895, 7896, 7900, 7901, 7902, 7911, 7918, 7920, 7921, 7924, 7927, 7933, 7934, 7945, 7948, 7950, 7951, 7953, 7956, 7961, 7962, 7964, 7966, 7967, 7969, 7970, 7973, 7974, 7976, 7980, 7981, 7982, 7984, 7987, 7999, 8001, 8012, 8013, 8018, 8020, 8034, 8038, 8050, 8052, 8055, 8059, 8060, 8083, 8092, 8099, 8108, 8117, 8118, 8119, 8124, 8126, 8135, 8136, 8142, 8143, 8145, 8151, 8152, 8154, 8157, 8158, 8160, 8166, 8168, 8172, 8177, 8178, 8185, 8188, 8190])\n"
     ]
    }
   ],
   "source": [
    "print(procurarOR([term1]))\n",
    "print(procurarOR(terms1))"
   ]
  },
  {
   "cell_type": "markdown",
   "metadata": {},
   "source": [
    "#A expansão de consultas é mais adequada para melhorar o recall ou o precision? Por que?"
   ]
  }
 ],
 "metadata": {
  "anaconda-cloud": {},
  "kernelspec": {
   "display_name": "Python 2",
   "language": "python",
   "name": "python2"
  },
  "language_info": {
   "codemirror_mode": {
    "name": "ipython",
    "version": 2
   },
   "file_extension": ".py",
   "mimetype": "text/x-python",
   "name": "python",
   "nbconvert_exporter": "python",
   "pygments_lexer": "ipython2",
   "version": "2.7.12"
  }
 },
 "nbformat": 4,
 "nbformat_minor": 1
}
