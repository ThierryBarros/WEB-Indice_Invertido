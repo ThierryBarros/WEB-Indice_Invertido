{
 "cells": [
  {
   "cell_type": "code",
   "execution_count": 526,
   "metadata": {},
   "outputs": [],
   "source": [
    "import pandas as pd\n",
    "import csv\n",
    "import numpy as np\n",
    "__author__ = \"Thierry Barros\"\n",
    "\n",
    "df = pd.read_csv(\"dados.csv\", encoding=\"utf-8\", header=None)\n",
    "\n",
    "df.rename(columns={0: 'SOURCE', 1: 'TARGET', 2: 'RATING',3:'TIME'}, inplace=True)\n",
    "\n",
    "df1 = df[df['RATING']>=8]\n",
    "\n",
    "tam = df1['SOURCE'].max()\n",
    "\n",
    "matrix = np.zeros((tam,tam), dtype=np.float64)\n"
   ]
  },
  {
   "cell_type": "code",
   "execution_count": 527,
   "metadata": {},
   "outputs": [
    {
     "name": "stdout",
     "output_type": "stream",
     "text": [
      "[0.         0.09090909 0.         ... 0.         0.         0.        ]\n"
     ]
    }
   ],
   "source": [
    "link = {}\n",
    "\n",
    "for i in df1.SOURCE:\n",
    "    link[i] = len(df1[df1['SOURCE']==i])\n",
    "\n",
    "\n",
    "for i in link.keys():\n",
    "    target = df1[df1['SOURCE']==i]\n",
    "    for j in target.TARGET:\n",
    "        matrix[i-1][j-1] = (1.0/link[i])\n",
    "\n",
    "        \n",
    "print matrix[0]\n",
    "    "
   ]
  },
  {
   "cell_type": "code",
   "execution_count": null,
   "metadata": {},
   "outputs": [],
   "source": []
  }
 ],
 "metadata": {
  "kernelspec": {
   "display_name": "Python 2",
   "language": "python",
   "name": "python2"
  },
  "language_info": {
   "codemirror_mode": {
    "name": "ipython",
    "version": 2
   },
   "file_extension": ".py",
   "mimetype": "text/x-python",
   "name": "python",
   "nbconvert_exporter": "python",
   "pygments_lexer": "ipython2",
   "version": "2.7.12"
  }
 },
 "nbformat": 4,
 "nbformat_minor": 2
}
