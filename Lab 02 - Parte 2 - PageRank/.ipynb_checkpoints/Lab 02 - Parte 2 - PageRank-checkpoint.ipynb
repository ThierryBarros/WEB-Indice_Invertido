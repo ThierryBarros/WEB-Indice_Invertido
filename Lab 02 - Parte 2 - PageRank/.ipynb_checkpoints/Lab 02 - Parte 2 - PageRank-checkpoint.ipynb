{
 "cells": [
  {
   "cell_type": "markdown",
   "metadata": {},
   "source": [
    "# PageRank Algorithm"
   ]
  },
  {
   "cell_type": "code",
   "execution_count": 107,
   "metadata": {
    "collapsed": true
   },
   "outputs": [],
   "source": [
    "import pandas as pd\n",
    "\n",
    "import numpy as np\n",
    "__author__ = \"Thierry Barros\"\n",
    "\n",
    "df = pd.read_csv(\"dados.csv\", encoding=\"utf-8\", header=None)"
   ]
  },
  {
   "cell_type": "markdown",
   "metadata": {},
   "source": [
    "##Tratando os dados.\n",
    "\n",
    "Nomeando as colunas, apagando colunas desnecessárias e filtrando por Rating maior ou igual a 8."
   ]
  },
  {
   "cell_type": "code",
   "execution_count": 108,
   "metadata": {
    "collapsed": true
   },
   "outputs": [],
   "source": [
    "df.rename(columns={0: 'Source', 1: 'Target', 2: 'Rating',3:'Time'}, inplace=True)\n",
    "\n",
    "del df['Time']\n",
    "\n",
    "df1 = df[df['Rating']>=8]\n",
    "\n",
    "df1.to_csv('dados1.csv')"
   ]
  },
  {
   "cell_type": "markdown",
   "metadata": {},
   "source": [
    "##Mapeando os valores de Source e Target para valores de (0 a numero de elementos distintos).\n",
    "\n",
    "Só é possível criar uma matriz n por n, se os valores estiverem entre 0 e n. Por isso esse mapeamento, para não criar matrizes onde elementos não existem. Isso seria para normalizar os dados. **Existem variações de 1 a 5999, mas só existem 915 elementos diferentes**, então se não fizesse esse mapeamento dos elementos de 0 para 914, haveriam mais de 5000 elementos na matriz que não existem e que atrapalhariam os cálculos do Pagerank por causa da probabilidade do teleporte para um desses elementos. O primeiro for mapeia os valores de Source, e o segundo mapeia os valore de Target. Isso mapeando em sequência de valores pegos e incrementando com count."
   ]
  },
  {
   "cell_type": "code",
   "execution_count": 109,
   "metadata": {},
   "outputs": [
    {
     "name": "stdout",
     "output_type": "stream",
     "text": [
      "Maior elemento é: 5999\n",
      "Número de elementos distintos é: 915\n"
     ]
    }
   ],
   "source": [
    "mapEle = {}\n",
    "cont = 0\n",
    "for i in sorted(df1.Source,reverse=True):\n",
    "    try:\n",
    "        if mapEle[i] == -1:\n",
    "            mapEle[i] = cont\n",
    "            cont+=1\n",
    "    except KeyError:\n",
    "        mapEle[i] = cont\n",
    "        cont +=1\n",
    "for i in sorted(df1.Target,reverse=True):\n",
    "    try:\n",
    "        if mapEle[i] == -1:\n",
    "            mapEle[i] = cont\n",
    "            cont+=1\n",
    "    except KeyError:\n",
    "        mapEle[i] = cont\n",
    "        cont +=1\n",
    "\n",
    "print (\"Maior elemento é:\",df1.Source.max())\n",
    "print (\"Número de elementos distintos é:\",len(mapEle))"
   ]
  },
  {
   "cell_type": "markdown",
   "metadata": {},
   "source": [
    "##Crianção da matriz de transição do tamanho 915 por 915."
   ]
  },
  {
   "cell_type": "code",
   "execution_count": 110,
   "metadata": {
    "collapsed": true
   },
   "outputs": [],
   "source": [
    "tam = len(mapEle)\n",
    "\n",
    "matriz = np.zeros((tam,tam), dtype=np.float64)"
   ]
  },
  {
   "cell_type": "markdown",
   "metadata": {},
   "source": [
    "##Povoando a matriz de transição com as probabilidades.\n",
    "\n",
    "Esse for percorre todos os elementos e atribui a probabilidades de sair do elemento A e chegar no elemento B. Caso não tenha saída do elemento A para nenhum outro elemento, ele atribui a probabilidade igual dele sair para qualquer um outro se teleportando, probabilidade é (1/numéro de elementos)."
   ]
  },
  {
   "cell_type": "code",
   "execution_count": 111,
   "metadata": {
    "collapsed": true
   },
   "outputs": [],
   "source": [
    "for i in mapEle.keys():\n",
    "    target = df1[df1['Source']==i]\n",
    "    if len(target)>0:\n",
    "        for j in target.Target:\n",
    "            matriz[mapEle[j]][mapEle[i]] = (1.0/len(target))\n",
    "    else:\n",
    "        for j in range(len(matriz)):\n",
    "            matriz[j][mapEle[i]] = 1.0/len(matriz)\n"
   ]
  },
  {
   "cell_type": "markdown",
   "metadata": {},
   "source": [
    "##Cria a matriz de teleporte.\n",
    "\n",
    "Cria uma matriz **b** com as mesmas dimensões da matriz de transição e com todos os valores iguals(1/número de elementos)."
   ]
  },
  {
   "cell_type": "code",
   "execution_count": 112,
   "metadata": {},
   "outputs": [],
   "source": [
    "a = np.zeros((tam,tam), dtype=np.float64)\n",
    "a[0:tam, 0:tam] = 1\n",
    "a = np.matrix(a)\n",
    "b = (float(1)/float(tam))*a"
   ]
  },
  {
   "cell_type": "markdown",
   "metadata": {},
   "source": [
    "##Cria a matriz m.\n",
    "\n",
    "Matriz que é a soma da **matriz de transição com peso 0.85 mais a matriz de teleporte com peso 0.15**."
   ]
  },
  {
   "cell_type": "code",
   "execution_count": 113,
   "metadata": {
    "collapsed": true
   },
   "outputs": [],
   "source": [
    "m = 0.85*matriz + 0.15*b"
   ]
  },
  {
   "cell_type": "markdown",
   "metadata": {},
   "source": [
    "##Vetor v normalizado."
   ]
  },
  {
   "cell_type": "code",
   "execution_count": 114,
   "metadata": {},
   "outputs": [],
   "source": [
    "c = np.zeros((tam,1), dtype=np.float64)\n",
    "c[0:tam] = 1\n",
    "v = (float(1)/float(tam))*c\n",
    "v = np.matrix(v)"
   ]
  },
  {
   "cell_type": "markdown",
   "metadata": {},
   "source": [
    "##Função Pagerank.\n",
    "\n",
    "função que calcula o pagerank até convergir, ele converge quando a soma da mudança do pagerank anterior para o atual seja menor que **0.0001**. Ele calcula o pagerank através da multiplicação da matriz m pela vetor v."
   ]
  },
  {
   "cell_type": "code",
   "execution_count": 115,
   "metadata": {
    "collapsed": true
   },
   "outputs": [],
   "source": [
    "count = 0\n",
    "\n",
    "def pagerank(v):\n",
    "    global count\n",
    "    if sum(abs(m*v-v))>0.0001:\n",
    "        count+=1\n",
    "        print ('count:',count)\n",
    "        print (str(sorted(m*v,reverse=True)[:4])+\"...\")\n",
    "        print (\"sum(abs(m*v-v)):\",sum(abs(m*v-v)))\n",
    "        return pagerank(m*v)\n",
    "    else:\n",
    "        count+=1\n",
    "        print ('count:',count)\n",
    "        print (str(sorted(m*v,reverse=True)[:4])+\"...\")\n",
    "        print (\"sum(abs(m*v-v)):\",sum(abs(m*v-v)))\n",
    "        return m*v\n"
   ]
  },
  {
   "cell_type": "code",
   "execution_count": 116,
   "metadata": {},
   "outputs": [
    {
     "name": "stdout",
     "output_type": "stream",
     "text": [
      "count: 1\n",
      "[matrix([[ 0.02317554]]), matrix([[ 0.02065775]]), matrix([[ 0.0121983]]), matrix([[ 0.01018555]])]...\n",
      "sum(abs(m*v-v)): [[ 0.61680796]]\n",
      "count: 2\n",
      "[matrix([[ 0.01713787]]), matrix([[ 0.01426242]]), matrix([[ 0.00964515]]), matrix([[ 0.0095655]])]...\n",
      "sum(abs(m*v-v)): [[ 0.32463054]]\n",
      "count: 3\n",
      "[matrix([[ 0.02309645]]), matrix([[ 0.01418261]]), matrix([[ 0.0111721]]), matrix([[ 0.00894815]])]...\n",
      "sum(abs(m*v-v)): [[ 0.16214343]]\n",
      "count: 4\n",
      "[matrix([[ 0.02032425]]), matrix([[ 0.01393272]]), matrix([[ 0.01094926]]), matrix([[ 0.00945873]])]...\n",
      "sum(abs(m*v-v)): [[ 0.10245683]]\n",
      "count: 5\n",
      "[matrix([[ 0.0221741]]), matrix([[ 0.01295956]]), matrix([[ 0.01070585]]), matrix([[ 0.00994271]])]...\n",
      "sum(abs(m*v-v)): [[ 0.06906324]]\n",
      "count: 6\n",
      "[matrix([[ 0.02084471]]), matrix([[ 0.01304108]]), matrix([[ 0.01075987]]), matrix([[ 0.00988137]])]...\n",
      "sum(abs(m*v-v)): [[ 0.04664161]]\n",
      "count: 7\n",
      "[matrix([[ 0.02148091]]), matrix([[ 0.01262314]]), matrix([[ 0.01034712]]), matrix([[ 0.01013391]])]...\n",
      "sum(abs(m*v-v)): [[ 0.0334121]]\n",
      "count: 8\n",
      "[matrix([[ 0.02079933]]), matrix([[ 0.01262961]]), matrix([[ 0.0104328]]), matrix([[ 0.00992068]])]...\n",
      "sum(abs(m*v-v)): [[ 0.02394662]]\n",
      "count: 9\n",
      "[matrix([[ 0.02099007]]), matrix([[ 0.01243962]]), matrix([[ 0.01009268]]), matrix([[ 0.01008314]])]...\n",
      "sum(abs(m*v-v)): [[ 0.01777267]]\n",
      "count: 10\n",
      "[matrix([[ 0.02063584]]), matrix([[ 0.01242389]]), matrix([[ 0.01019266]]), matrix([[ 0.00986036]])]...\n",
      "sum(abs(m*v-v)): [[ 0.01331516]]\n",
      "count: 11\n",
      "[matrix([[ 0.02066455]]), matrix([[ 0.01232561]]), matrix([[ 0.01001053]]), matrix([[ 0.00990733]])]...\n",
      "sum(abs(m*v-v)): [[ 0.01020428]]\n",
      "count: 12\n",
      "[matrix([[ 0.02047566]]), matrix([[ 0.01230756]]), matrix([[ 0.01003608]]), matrix([[ 0.0097891]])]...\n",
      "sum(abs(m*v-v)): [[ 0.00790022]]\n",
      "count: 13\n",
      "[matrix([[ 0.02045382]]), matrix([[ 0.01225169]]), matrix([[ 0.00993662]]), matrix([[ 0.00979475]])]...\n",
      "sum(abs(m*v-v)): [[ 0.00622511]]\n",
      "count: 14\n",
      "[matrix([[ 0.02034852]]), matrix([[ 0.01223633]]), matrix([[ 0.00993602]]), matrix([[ 0.00973027]])]...\n",
      "sum(abs(m*v-v)): [[ 0.00494686]]\n",
      "count: 15\n",
      "[matrix([[ 0.02031725]]), matrix([[ 0.01220271]]), matrix([[ 0.00988008]]), matrix([[ 0.00972318]])]...\n",
      "sum(abs(m*v-v)): [[ 0.00398507]]\n",
      "count: 16\n",
      "[matrix([[ 0.02025552]]), matrix([[ 0.01219081]]), matrix([[ 0.00987191]]), matrix([[ 0.00968681]])]...\n",
      "sum(abs(m*v-v)): [[ 0.00320943]]\n",
      "count: 17\n",
      "[matrix([[ 0.02022792]]), matrix([[ 0.01216988]]), matrix([[ 0.00983949]]), matrix([[ 0.00967744]])]...\n",
      "sum(abs(m*v-v)): [[ 0.0026176]]\n",
      "count: 18\n",
      "[matrix([[ 0.02019008]]), matrix([[ 0.01216105]]), matrix([[ 0.00983055]]), matrix([[ 0.0096562]])]...\n",
      "sum(abs(m*v-v)): [[ 0.00212794]]\n",
      "count: 19\n",
      "[matrix([[ 0.02016892]]), matrix([[ 0.01214773]]), matrix([[ 0.00981121]]), matrix([[ 0.00964795]])]...\n",
      "sum(abs(m*v-v)): [[ 0.00175088]]\n",
      "count: 20\n",
      "[matrix([[ 0.02014492]]), matrix([[ 0.01214135]]), matrix([[ 0.00980367]]), matrix([[ 0.00963515]])]...\n",
      "sum(abs(m*v-v)): [[ 0.00143523]]\n",
      "count: 21\n",
      "[matrix([[ 0.02012965]]), matrix([[ 0.01213275]]), matrix([[ 0.00979184]]), matrix([[ 0.00962877]])]...\n",
      "sum(abs(m*v-v)): [[ 0.00118715]]\n",
      "count: 22\n",
      "[matrix([[ 0.02011408]]), matrix([[ 0.01212821]]), matrix([[ 0.00978608]]), matrix([[ 0.00962084]])]...\n",
      "sum(abs(m*v-v)): [[ 0.00097777]]\n",
      "count: 23\n",
      "[matrix([[ 0.02010338]]), matrix([[ 0.01212259]]), matrix([[ 0.00977869]]), matrix([[ 0.0096162]])]...\n",
      "sum(abs(m*v-v)): [[ 0.00080984]]\n",
      "count: 24\n",
      "[matrix([[ 0.02009312]]), matrix([[ 0.0121194]]), matrix([[ 0.00977449]]), matrix([[ 0.00961117]])]...\n",
      "sum(abs(m*v-v)): [[ 0.00066865]]\n",
      "count: 25\n",
      "[matrix([[ 0.02008574]]), matrix([[ 0.0121157]]), matrix([[ 0.00976979]]), matrix([[ 0.0096079]])]...\n",
      "sum(abs(m*v-v)): [[ 0.00055401]]\n",
      "count: 26\n",
      "[matrix([[ 0.02007893]]), matrix([[ 0.01211348]]), matrix([[ 0.00976683]]), matrix([[ 0.00960466]])]...\n",
      "sum(abs(m*v-v)): [[ 0.00045842]]\n",
      "count: 27\n",
      "[matrix([[ 0.02007387]]), matrix([[ 0.01211102]]), matrix([[ 0.0097638]]), matrix([[ 0.00960239]])]...\n",
      "sum(abs(m*v-v)): [[ 0.00037997]]\n",
      "count: 28\n",
      "[matrix([[ 0.02006932]]), matrix([[ 0.01210948]]), matrix([[ 0.00976173]]), matrix([[ 0.00960028]])]...\n",
      "sum(abs(m*v-v)): [[ 0.00031502]]\n",
      "count: 29\n",
      "[matrix([[ 0.02006587]]), matrix([[ 0.01210784]]), matrix([[ 0.00975976]]), matrix([[ 0.00959872]])]...\n",
      "sum(abs(m*v-v)): [[ 0.00026123]]\n",
      "count: 30\n",
      "[matrix([[ 0.02006282]]), matrix([[ 0.01210677]]), matrix([[ 0.00975833]]), matrix([[ 0.00959733]])]...\n",
      "sum(abs(m*v-v)): [[ 0.00021698]]\n",
      "count: 31\n",
      "[matrix([[ 0.02006047]]), matrix([[ 0.01210568]]), matrix([[ 0.00975703]]), matrix([[ 0.00959627]])]...\n",
      "sum(abs(m*v-v)): [[ 0.00018]]\n",
      "count: 32\n",
      "[matrix([[ 0.02005842]]), matrix([[ 0.01210494]]), matrix([[ 0.00975606]]), matrix([[ 0.00959535]])]...\n",
      "sum(abs(m*v-v)): [[ 0.00014976]]\n",
      "count: 33\n",
      "[matrix([[ 0.02005683]]), matrix([[ 0.0121042]]), matrix([[ 0.00975519]]), matrix([[ 0.00959463]])]...\n",
      "sum(abs(m*v-v)): [[ 0.00012438]]\n",
      "count: 34\n",
      "[matrix([[ 0.02005544]]), matrix([[ 0.0121037]]), matrix([[ 0.00975453]]), matrix([[ 0.00959401]])]...\n",
      "sum(abs(m*v-v)): [[ 0.0001036]]\n",
      "count: 35\n",
      "[matrix([[ 0.02005436]]), matrix([[ 0.0121032]]), matrix([[ 0.00975396]]), matrix([[ 0.00959352]])]...\n",
      "sum(abs(m*v-v)): [[  8.61535336e-05]]\n"
     ]
    }
   ],
   "source": [
    "result = pagerank(v)"
   ]
  },
  {
   "cell_type": "markdown",
   "metadata": {},
   "source": [
    "##Função auxiliar\n",
    "\n",
    "Função auxiliar que pega o id original de cada elemento, já que mapiei cada uma para um valor entre 0 e 915, seria bom no final saber qual o id real de cada elemento."
   ]
  },
  {
   "cell_type": "code",
   "execution_count": 117,
   "metadata": {
    "collapsed": true
   },
   "outputs": [],
   "source": [
    "def getID(id):\n",
    "    for i in mapEle:\n",
    "        if mapEle[i]==id:\n",
    "            return i"
   ]
  },
  {
   "cell_type": "markdown",
   "metadata": {},
   "source": [
    "##Top 20: Rank dos elementos.\n",
    "\n",
    "Rank dos elementos em ordem decrescentes, com os seus valores de PageRank. Comparação com os resultados do Gephi foram praticamente iguais, com pequenas mudanças nas últimas casas decimais."
   ]
  },
  {
   "cell_type": "code",
   "execution_count": 118,
   "metadata": {},
   "outputs": [
    {
     "name": "stdout",
     "output_type": "stream",
     "text": [
      "1º- Id: 1 PageRank: [[ 0.02005436]]\n",
      "2º- Id: 25 PageRank: [[ 0.0121032]]\n",
      "3º- Id: 4172 PageRank: [[ 0.00975396]]\n",
      "4º- Id: 2642 PageRank: [[ 0.00959352]]\n",
      "5º- Id: 1018 PageRank: [[ 0.00753362]]\n",
      "6º- Id: 7 PageRank: [[ 0.00699007]]\n",
      "7º- Id: 2647 PageRank: [[ 0.00681131]]\n",
      "8º- Id: 2118 PageRank: [[ 0.00636202]]\n",
      "9º- Id: 202 PageRank: [[ 0.00622195]]\n",
      "10º- Id: 1437 PageRank: [[ 0.00617169]]\n",
      "11º- Id: 35 PageRank: [[ 0.00604723]]\n",
      "12º- Id: 1185 PageRank: [[ 0.00567906]]\n",
      "13º- Id: 144 PageRank: [[ 0.00563351]]\n",
      "14º- Id: 1201 PageRank: [[ 0.00548941]]\n",
      "15º- Id: 908 PageRank: [[ 0.00545392]]\n",
      "16º- Id: 361 PageRank: [[ 0.0054024]]\n",
      "17º- Id: 3996 PageRank: [[ 0.00523877]]\n",
      "18º- Id: 3219 PageRank: [[ 0.00509695]]\n",
      "19º- Id: 4291 PageRank: [[ 0.00476771]]\n",
      "20º- Id: 4 PageRank: [[ 0.00462977]]\n"
     ]
    }
   ],
   "source": [
    "tupla = []\n",
    "for index,i in enumerate(result):\n",
    "    tupla.append((getID(index),i))\n",
    "tupla.sort(key=lambda tup: tup[1], reverse=True)\n",
    "\n",
    "for index,i in enumerate(tupla[:20]):\n",
    "    print (str(index+1)+\"º- Id:\" ,i[0],\"PageRank: \"+str(i[1]))"
   ]
  },
  {
   "cell_type": "markdown",
   "metadata": {},
   "source": [
    "##Feitos os passos acima, responda as seguintes perguntas:"
   ]
  },
  {
   "cell_type": "markdown",
   "metadata": {},
   "source": [
    "**Quantas iterações o PageRank precisou rodar até atingir convergência?**\n",
    "\n",
    "35 Interações."
   ]
  },
  {
   "cell_type": "markdown",
   "metadata": {},
   "source": [
    "**Quais os 5 investidores mais importantes segundo o PageRank? Quais seus valores de PageRank?**"
   ]
  },
  {
   "cell_type": "code",
   "execution_count": 119,
   "metadata": {},
   "outputs": [
    {
     "name": "stdout",
     "output_type": "stream",
     "text": [
      "1º- Id: 1 PageRank: [[ 0.02005436]]\n",
      "2º- Id: 25 PageRank: [[ 0.0121032]]\n",
      "3º- Id: 4172 PageRank: [[ 0.00975396]]\n",
      "4º- Id: 2642 PageRank: [[ 0.00959352]]\n",
      "5º- Id: 1018 PageRank: [[ 0.00753362]]\n"
     ]
    }
   ],
   "source": [
    "for index,i in enumerate(tupla[:5]):\n",
    "    print (str(index+1)+\"º- Id:\" ,i[0],\"PageRank: \"+str(i[1]))"
   ]
  },
  {
   "cell_type": "markdown",
   "metadata": {},
   "source": [
    "![Top 5 pagerank gephi](img/top5pagerank.jpg)"
   ]
  },
  {
   "cell_type": "markdown",
   "metadata": {},
   "source": [
    "**Como você poderia usar o PageRank caso você fosse um investidor em bitcoins?**\n",
    "\n",
    "O cálculo do Pagerank serviria para auxiliar um investidor a ter conhecimento de quais as melhores pessoas em que podem investir, devido o número de boas avaliações e numero de outros investidores investindo nessas pessoas. Seviria como segurança na hora do investimento do seu precioso bitcoin."
   ]
  },
  {
   "cell_type": "markdown",
   "metadata": {},
   "source": [
    "A imagem mostra o grafo de pagerank dos investirores de bitcoin. O tamanho de cada vértice representa seu valor de pagerank, quanto maior mais importante ele é:\n",
    "\n",
    "![Imagem](img/picture.jpg)"
   ]
  },
  {
   "cell_type": "markdown",
   "metadata": {},
   "source": [
    "A imagem abaixo mostra os valores de pagerank criados pela ferramenta gephi, podemos ver que são idênticos aos valores gerados pelo código acima, demosntrando que a implementação e estrutura do pagerank está correta:\n",
    "\n",
    "![Imagem](img/foto.jpg)"
   ]
  }
 ],
 "metadata": {
  "kernelspec": {
   "display_name": "Python 3",
   "language": "python",
   "name": "python3"
  },
  "language_info": {
   "codemirror_mode": {
    "name": "ipython",
    "version": 3
   },
   "file_extension": ".py",
   "mimetype": "text/x-python",
   "name": "python",
   "nbconvert_exporter": "python",
   "pygments_lexer": "ipython3",
   "version": "3.6.2"
  }
 },
 "nbformat": 4,
 "nbformat_minor": 2
}
